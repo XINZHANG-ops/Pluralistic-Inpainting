{
 "cells": [
  {
   "cell_type": "code",
   "execution_count": null,
   "id": "falling-dubai",
   "metadata": {},
   "outputs": [],
   "source": [
    "# !pip install imageio"
   ]
  },
  {
   "cell_type": "code",
   "execution_count": null,
   "id": "documented-surface",
   "metadata": {},
   "outputs": [],
   "source": [
    "# !python train.py -h"
   ]
  },
  {
   "cell_type": "code",
   "execution_count": null,
   "id": "reliable-memory",
   "metadata": {},
   "outputs": [],
   "source": [
    "# files modified\n",
    "\"\"\"\n",
    "Pluralistic/train.py\n",
    "Pluralistic/options/base_options.py\n",
    "Pluralistic/dataloader/data_loader.py\n",
    "\"\"\"\n",
    "--continue_train"
   ]
  },
  {
   "cell_type": "code",
   "execution_count": null,
   "id": "american-anthony",
   "metadata": {},
   "outputs": [],
   "source": [
    "from object_detect.generate_masks import create_rand_mask"
   ]
  },
  {
   "cell_type": "code",
   "execution_count": null,
   "id": "visible-regular",
   "metadata": {},
   "outputs": [],
   "source": []
  },
  {
   "cell_type": "code",
   "execution_count": null,
   "id": "thermal-communication",
   "metadata": {},
   "outputs": [],
   "source": [
    "img_dir = 'linmao-test_txt/JPEGImages'\n",
    "label_dir = 'linmao-test_txt/Annotations'\n",
    "save_dir = 'linmao-test_txt/Masks'\n",
    "save_txt_dir = 'linmao-test_txt/Masks_txt'\n",
    "create_rand_mask(img_dir, label_dir, save_dir, save_txt_dir, num_per_img=4,\n",
    "                     width_minmax=(0.05, 0.2),\n",
    "                     hight_minmax=(0.05, 0.2),\n",
    "                     img_type='jpg',\n",
    "                     save_type='jpg')"
   ]
  },
  {
   "cell_type": "code",
   "execution_count": null,
   "id": "retained-complex",
   "metadata": {},
   "outputs": [],
   "source": [
    "from object_detect.box_image_text import plot_box"
   ]
  },
  {
   "cell_type": "code",
   "execution_count": null,
   "id": "broke-smith",
   "metadata": {},
   "outputs": [],
   "source": [
    "out_put_dir = 'linmao-test_txt/masks_on_origin'\n",
    "os.makedirs(out_put_dir, exist_ok=True)\n",
    "plot_box(img_dir, save_txt_dir, out_put_dir, thickness=20, filter_diff=True)"
   ]
  },
  {
   "cell_type": "code",
   "execution_count": null,
   "id": "applicable-packet",
   "metadata": {},
   "outputs": [],
   "source": []
  },
  {
   "cell_type": "code",
   "execution_count": null,
   "id": "headed-haiti",
   "metadata": {},
   "outputs": [],
   "source": []
  },
  {
   "cell_type": "code",
   "execution_count": null,
   "id": "substantial-simple",
   "metadata": {},
   "outputs": [],
   "source": []
  },
  {
   "cell_type": "markdown",
   "id": "intellectual-provision",
   "metadata": {},
   "source": [
    "# Note\n",
    "### Put mask_type as 3 and mask_file in order to use my own masks, the image name and mask name should match"
   ]
  },
  {
   "cell_type": "code",
   "execution_count": null,
   "id": "twelve-zealand",
   "metadata": {},
   "outputs": [],
   "source": [
    "!python train.py --name linmao --img_file linmao-test_txt/JPEGImages --mask_file linmao-test_txt/Masks --niter 100000 --save_iters_freq 100000 --save_latest_freq 1 --batchSize 4 --mask_type 3\n",
    "\n"
   ]
  },
  {
   "cell_type": "code",
   "execution_count": null,
   "id": "guided-thesis",
   "metadata": {},
   "outputs": [],
   "source": [
    "# !python test.py -h"
   ]
  },
  {
   "cell_type": "markdown",
   "id": "material-occasion",
   "metadata": {},
   "source": [
    "# batchSize must be what in order to get correct predictions\n",
    "# Modify Pluralistic/options/test_options.py how_many to set up how many pictures to predict"
   ]
  },
  {
   "cell_type": "code",
   "execution_count": null,
   "id": "bored-virus",
   "metadata": {},
   "outputs": [],
   "source": [
    "!python test.py  --name linmao --img_file linmao-test_txt/JPEGImages --mask_file linmao-test_txt/Masks --mask_type 3 --batchSize 1\n"
   ]
  },
  {
   "cell_type": "code",
   "execution_count": null,
   "id": "noted-opening",
   "metadata": {},
   "outputs": [],
   "source": []
  },
  {
   "cell_type": "code",
   "execution_count": null,
   "id": "sharp-customer",
   "metadata": {},
   "outputs": [],
   "source": []
  },
  {
   "cell_type": "code",
   "execution_count": null,
   "id": "double-headline",
   "metadata": {},
   "outputs": [],
   "source": []
  },
  {
   "cell_type": "code",
   "execution_count": null,
   "id": "attempted-folder",
   "metadata": {},
   "outputs": [],
   "source": [
    "import torchvision.transforms as transforms\n",
    "from PIL import Image, ImageFile"
   ]
  },
  {
   "cell_type": "code",
   "execution_count": null,
   "id": "detected-wright",
   "metadata": {},
   "outputs": [],
   "source": [
    "loadSize = [522, 522]\n",
    "fineSize = [512, 512]"
   ]
  },
  {
   "cell_type": "code",
   "execution_count": null,
   "id": "aggregate-opportunity",
   "metadata": {},
   "outputs": [],
   "source": [
    "transform_list = []\n",
    "osize = [loadSize[0], loadSize[1]]\n",
    "fsize = [fineSize[0], fineSize[1]]\n",
    "\n",
    "transform_list.append(transforms.Resize(fsize))\n",
    "\n",
    "transform_list += [transforms.ToTensor()]\n",
    "transform = transforms.Compose(transform_list)"
   ]
  },
  {
   "cell_type": "code",
   "execution_count": null,
   "id": "dimensional-great",
   "metadata": {},
   "outputs": [],
   "source": [
    "img_path = 'linmao-test_txt/JPEGImages/nl_0438_0420.jpg'\n",
    "img_pil = Image.open(img_path).convert('RGB')\n",
    "img = transform(img_pil)"
   ]
  },
  {
   "cell_type": "code",
   "execution_count": null,
   "id": "front-power",
   "metadata": {},
   "outputs": [],
   "source": [
    "import numpy as np\n",
    "np.array(img_pil).shape"
   ]
  },
  {
   "cell_type": "code",
   "execution_count": null,
   "id": "injured-coach",
   "metadata": {},
   "outputs": [],
   "source": [
    "img.shape"
   ]
  },
  {
   "cell_type": "code",
   "execution_count": null,
   "id": "breathing-eclipse",
   "metadata": {},
   "outputs": [],
   "source": [
    "import cv2\n",
    "\n",
    "\n",
    "image = img.numpy()\n",
    "image = cv2.cvtColor(image)\n",
    "\n",
    "pixels = np.array(image)\n",
    "\n",
    "plt.imshow(pixels)\n",
    "plt.show()"
   ]
  },
  {
   "cell_type": "code",
   "execution_count": null,
   "id": "national-latest",
   "metadata": {},
   "outputs": [],
   "source": [
    "from matplotlib import pyplot as plt\n",
    "img = img.numpy()\n",
    "# img = img.reshape(img.shape[1], img.shape[2], img.shape[0])\n",
    "from matplotlib import pyplot as plt\n",
    "plt.imshow(img, interpolation='nearest')"
   ]
  },
  {
   "cell_type": "code",
   "execution_count": null,
   "id": "superb-today",
   "metadata": {},
   "outputs": [],
   "source": []
  }
 ],
 "metadata": {
  "environment": {
   "name": "rapids-gpu.0-18.m65",
   "type": "gcloud",
   "uri": "gcr.io/deeplearning-platform-release/rapids-gpu.0-18:m65"
  },
  "kernelspec": {
   "display_name": "Python 3",
   "language": "python",
   "name": "python3"
  },
  "language_info": {
   "codemirror_mode": {
    "name": "ipython",
    "version": 3
   },
   "file_extension": ".py",
   "mimetype": "text/x-python",
   "name": "python",
   "nbconvert_exporter": "python",
   "pygments_lexer": "ipython3",
   "version": "3.7.10"
  }
 },
 "nbformat": 4,
 "nbformat_minor": 5
}
